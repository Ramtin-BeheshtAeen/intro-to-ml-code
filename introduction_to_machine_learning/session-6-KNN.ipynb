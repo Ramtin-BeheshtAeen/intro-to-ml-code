{
 "cells": [
  {
   "cell_type": "markdown",
   "metadata": {},
   "source": [
    "# kNN Classifier"
   ]
  },
  {
   "cell_type": "markdown",
   "metadata": {},
   "source": [
    "## Implement the Algorithm"
   ]
  },
  {
   "cell_type": "code",
   "execution_count": 1,
   "metadata": {},
   "outputs": [],
   "source": [
    "import numpy as np"
   ]
  },
  {
   "cell_type": "code",
   "execution_count": 2,
   "metadata": {},
   "outputs": [],
   "source": [
    "class KnnClassifier:\n",
    "    def __init__(self, k = 3, distance_function = None):\n",
    "        self.k = k\n",
    "        if distance_function is None:\n",
    "            self.distance_function = self._euclidean_distance\n",
    "        else:\n",
    "            self.distance_function = distance_function\n",
    "        \n",
    "    def fit(self, X, y):\n",
    "        self.X_train = X\n",
    "        self.y_train = y\n",
    "    \n",
    "    def _euclidean_distance(self, x1, x2):\n",
    "        return np.sqrt(np.sum((x1 - x2) ** 2))\n",
    "\n",
    "    def _manhattan_distance(self, x1, x2):\n",
    "        pass\n",
    "\n",
    "    def _minkowski_distance(self, x1, x2, p=3):\n",
    "        pass\n",
    "\n",
    "    def predict(self, X):\n",
    "        predictions = []\n",
    "        for index, x in enumerate(X):\n",
    "            distances = [self.distance_func(x, x_train) for x_train in self.X_train]\n",
    "            # indices of the k nearest neighbors\n",
    "            k_indices = np.argsort(distances)[:self.k]\n",
    "            # labels of the k nearest neighbors\n",
    "            k_neighbor_labels = self.y_train[k_indices]\n",
    "            # majority vote\n",
    "            counts = np.bincount(k_neighbor_labels.astype(int))\n",
    "            predicted_label = np.argmax(counts)\n",
    "            predictions.append(predicted_label)  \n",
    "        return np.array(predictions)\n",
    "\n"
   ]
  }
 ],
 "metadata": {
  "kernelspec": {
   "display_name": "Python 3",
   "language": "python",
   "name": "python3"
  },
  "language_info": {
   "codemirror_mode": {
    "name": "ipython",
    "version": 3
   },
   "file_extension": ".py",
   "mimetype": "text/x-python",
   "name": "python",
   "nbconvert_exporter": "python",
   "pygments_lexer": "ipython3",
   "version": "3.11.0"
  }
 },
 "nbformat": 4,
 "nbformat_minor": 2
}
