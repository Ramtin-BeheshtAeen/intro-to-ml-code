{
 "cells": [
  {
   "cell_type": "markdown",
   "metadata": {},
   "source": [
    "# kNN Classifier"
   ]
  },
  {
   "cell_type": "code",
   "execution_count": 44,
   "metadata": {},
   "outputs": [],
   "source": [
    "import numpy as np\n",
    "import matplotlib.pyplot as plt\n",
    "from sklearn.model_selection import train_test_split\n",
    "from sklearn.metrics import accuracy_score, confusion_matrix, ConfusionMatrixDisplay"
   ]
  },
  {
   "cell_type": "markdown",
   "metadata": {},
   "source": [
    "## Generating Data"
   ]
  },
  {
   "cell_type": "code",
   "execution_count": 45,
   "metadata": {},
   "outputs": [],
   "source": [
    "def generate_synthetic_data(num_of_classes = 3, num_points_per_class=100, cluster_std=1.0):\n",
    "    np.random.seed(40)\n",
    "    X     = []\n",
    "    y     = []\n",
    "    means = []\n",
    "\n",
    "    for i in range(num_of_classes):\n",
    "        angle      = 2 * np.pi * i / num_of_classes\n",
    "        radius     = 3\n",
    "        #x= r * math.cos(theta), y = r * math.sin(theta)  # Convert polar coordinates (r, theta) to Cartesian coordinates (x, y)\n",
    "        mean       = [radius * np.cos(angle), radius * np.sin(angle)]\n",
    "        cov        = [[cluster_std, 0],[0, cluster_std]]\n",
    "        class_data = np.random.multivariate_normal(mean, cov, num_points_per_class)\n",
    "        y         += [i] * num_points_per_class\n",
    "\n",
    "        X.append(class_data)\n",
    "        mean.append(means)\n",
    "    \n",
    "    X = np.vstack(X)\n",
    "    y = np.array(y)\n",
    "\n",
    "    return X, y, means\n"
   ]
  },
  {
   "cell_type": "code",
   "execution_count": 46,
   "metadata": {},
   "outputs": [
    {
     "name": "stdout",
     "output_type": "stream",
     "text": [
      "(250, 2)\n"
     ]
    },
    {
     "data": {
      "image/png": "[encoded data removed]",
      "text/plain": [
       "<Figure size 576x432 with 1 Axes>"
      ]
     },
     "metadata": {
      "needs_background": "light"
     },
     "output_type": "display_data"
    }
   ],
   "source": [
    "num_of_classes = 5  # number of classes\n",
    "num_points_per_class = 50\n",
    "cluster_std = 1.0\n",
    "\n",
    "X, y, class_means = generate_synthetic_data(num_of_classes =num_of_classes, \n",
    "                                     num_points_per_class=num_points_per_class,\n",
    "                                     cluster_std=cluster_std)\n",
    "print(X.shape)\n",
    "plt.figure(figsize=(8,6))\n",
    "colors = plt.colormaps['tab10'].colors\n",
    "for i in range(num_of_classes):\n",
    "    #X[y == i, 0] and X[y == i, 1]: These expressions select the data points\n",
    "    #from the array X where the corresponding labels in y are equal to i.\n",
    "    #X is assumed to be a 2D array where rows represent samples and columns represent\n",
    "    # features. X[y == i, 0] selects the first feature (x-coordinate) of the samples\n",
    "    # belonging to class i, and X[y == i, 1] selects the second feature (y-coordinate)\n",
    "    # of the same samples.\n",
    "    plt.scatter(X[y == i, 0], X[y == i, 1], color=colors[i], label=f'Class {i}')#[Appendix1]\n",
    "plt.title('Synthetic Training Data for Multiple Classes')\n",
    "plt.legend()\n",
    "plt.show()"
   ]
  },
  {
   "cell_type": "markdown",
   "metadata": {},
   "source": [
    "## Implement the Algorithm"
   ]
  },
  {
   "cell_type": "code",
   "execution_count": 47,
   "metadata": {},
   "outputs": [],
   "source": [
    "class KnnClassifier:\n",
    "    def __init__(self, k = 3, distance_function = None):\n",
    "        self.k = k\n",
    "        if distance_function is None:\n",
    "            self.distance_function = self._euclidean_distance\n",
    "        else:\n",
    "            self.distance_function = distance_function\n",
    "        \n",
    "    def fit(self, X, y):\n",
    "        self.X_train = X\n",
    "        self.y_train = y\n",
    "    \n",
    "    def _euclidean_distance(self, x1, x2):\n",
    "        return np.sqrt(np.sum((x1 - x2) ** 2))\n",
    "\n",
    "    def _manhattan_distance(self, x1, x2):\n",
    "        pass\n",
    "\n",
    "    def _minkowski_distance(self, x1, x2, p=3):\n",
    "        pass\n",
    "\n",
    "    def predict(self, X):\n",
    "        predictions = []\n",
    "        for index, x in enumerate(X):\n",
    "            distances = [self.distance_function(x, x_train) for x_train in self.X_train]\n",
    "            # indices of the k nearest neighbors\n",
    "            k_indices = np.argsort(distances)[:self.k]\n",
    "            # labels of the k nearest neighbors\n",
    "            k_neighbor_labels = self.y_train[k_indices]\n",
    "            # majority vote\n",
    "            counts = np.bincount(k_neighbor_labels.astype(int))\n",
    "            predicted_label = np.argmax(counts)\n",
    "            predictions.append(predicted_label)  \n",
    "        return np.array(predictions)\n",
    "\n"
   ]
  },
  {
   "cell_type": "code",
   "execution_count": 48,
   "metadata": {},
   "outputs": [
    {
     "name": "stdout",
     "output_type": "stream",
     "text": [
      "Total samples: 250\n",
      "Training samples: 200\n",
      "Testing samples: 50\n"
     ]
    }
   ],
   "source": [
    "test_size = 0.2  # 20% for testing\n",
    "\n",
    "X_train, X_test, y_train, y_test = train_test_split(X, y, test_size=test_size, stratify=y, random_state=42)\n",
    "\n",
    "print(f\"Total samples: {X.shape[0]}\")\n",
    "print(f\"Training samples: {X_train.shape[0]}\")\n",
    "print(f\"Testing samples: {X_test.shape[0]}\")\n"
   ]
  },
  {
   "cell_type": "markdown",
   "metadata": {},
   "source": [
    "## Plot Decision Doundaries"
   ]
  },
  {
   "cell_type": "code",
   "execution_count": 49,
   "metadata": {},
   "outputs": [
    {
     "name": "stdout",
     "output_type": "stream",
     "text": [
      "X:\n",
      " [[0 1 2]\n",
      " [0 1 2]]\n",
      "Y:\n",
      " [[0 0 0]\n",
      " [1 1 1]]\n"
     ]
    }
   ],
   "source": [
    "# Create coordinate vectors\n",
    "x = np.arange(0, 3, 1)  # [0, 1, 2]\n",
    "y = np.arange(0, 2, 1)  # [0, 1]\n",
    "\n",
    "# Generate the meshgrid\n",
    "X, Y = np.meshgrid(x, y)\n",
    "\n",
    "print(\"X:\\n\", X)\n",
    "# Output:\n",
    "# [[0 1 2]\n",
    "#  [0 1 2]]\n",
    "\n",
    "print(\"Y:\\n\", Y)\n",
    "# Output:\n",
    "# [[0 0 0]\n",
    "#  [1 1 1]]"
   ]
  },
  {
   "cell_type": "code",
   "execution_count": 50,
   "metadata": {},
   "outputs": [
    {
     "name": "stdout",
     "output_type": "stream",
     "text": [
      "[[-1.00000000e+00 -9.00000000e-01 -8.00000000e-01 -7.00000000e-01\n",
      "  -6.00000000e-01 -5.00000000e-01 -4.00000000e-01 -3.00000000e-01\n",
      "  -2.00000000e-01 -1.00000000e-01 -2.22044605e-16  1.00000000e-01\n",
      "   2.00000000e-01  3.00000000e-01  4.00000000e-01  5.00000000e-01\n",
      "   6.00000000e-01  7.00000000e-01  8.00000000e-01  9.00000000e-01]\n",
      " [-1.00000000e+00 -9.00000000e-01 -8.00000000e-01 -7.00000000e-01\n",
      "  -6.00000000e-01 -5.00000000e-01 -4.00000000e-01 -3.00000000e-01\n",
      "  -2.00000000e-01 -1.00000000e-01 -2.22044605e-16  1.00000000e-01\n",
      "   2.00000000e-01  3.00000000e-01  4.00000000e-01  5.00000000e-01\n",
      "   6.00000000e-01  7.00000000e-01  8.00000000e-01  9.00000000e-01]\n",
      " [-1.00000000e+00 -9.00000000e-01 -8.00000000e-01 -7.00000000e-01\n",
      "  -6.00000000e-01 -5.00000000e-01 -4.00000000e-01 -3.00000000e-01\n",
      "  -2.00000000e-01 -1.00000000e-01 -2.22044605e-16  1.00000000e-01\n",
      "   2.00000000e-01  3.00000000e-01  4.00000000e-01  5.00000000e-01\n",
      "   6.00000000e-01  7.00000000e-01  8.00000000e-01  9.00000000e-01]\n",
      " [-1.00000000e+00 -9.00000000e-01 -8.00000000e-01 -7.00000000e-01\n",
      "  -6.00000000e-01 -5.00000000e-01 -4.00000000e-01 -3.00000000e-01\n",
      "  -2.00000000e-01 -1.00000000e-01 -2.22044605e-16  1.00000000e-01\n",
      "   2.00000000e-01  3.00000000e-01  4.00000000e-01  5.00000000e-01\n",
      "   6.00000000e-01  7.00000000e-01  8.00000000e-01  9.00000000e-01]\n",
      " [-1.00000000e+00 -9.00000000e-01 -8.00000000e-01 -7.00000000e-01\n",
      "  -6.00000000e-01 -5.00000000e-01 -4.00000000e-01 -3.00000000e-01\n",
      "  -2.00000000e-01 -1.00000000e-01 -2.22044605e-16  1.00000000e-01\n",
      "   2.00000000e-01  3.00000000e-01  4.00000000e-01  5.00000000e-01\n",
      "   6.00000000e-01  7.00000000e-01  8.00000000e-01  9.00000000e-01]\n",
      " [-1.00000000e+00 -9.00000000e-01 -8.00000000e-01 -7.00000000e-01\n",
      "  -6.00000000e-01 -5.00000000e-01 -4.00000000e-01 -3.00000000e-01\n",
      "  -2.00000000e-01 -1.00000000e-01 -2.22044605e-16  1.00000000e-01\n",
      "   2.00000000e-01  3.00000000e-01  4.00000000e-01  5.00000000e-01\n",
      "   6.00000000e-01  7.00000000e-01  8.00000000e-01  9.00000000e-01]\n",
      " [-1.00000000e+00 -9.00000000e-01 -8.00000000e-01 -7.00000000e-01\n",
      "  -6.00000000e-01 -5.00000000e-01 -4.00000000e-01 -3.00000000e-01\n",
      "  -2.00000000e-01 -1.00000000e-01 -2.22044605e-16  1.00000000e-01\n",
      "   2.00000000e-01  3.00000000e-01  4.00000000e-01  5.00000000e-01\n",
      "   6.00000000e-01  7.00000000e-01  8.00000000e-01  9.00000000e-01]\n",
      " [-1.00000000e+00 -9.00000000e-01 -8.00000000e-01 -7.00000000e-01\n",
      "  -6.00000000e-01 -5.00000000e-01 -4.00000000e-01 -3.00000000e-01\n",
      "  -2.00000000e-01 -1.00000000e-01 -2.22044605e-16  1.00000000e-01\n",
      "   2.00000000e-01  3.00000000e-01  4.00000000e-01  5.00000000e-01\n",
      "   6.00000000e-01  7.00000000e-01  8.00000000e-01  9.00000000e-01]\n",
      " [-1.00000000e+00 -9.00000000e-01 -8.00000000e-01 -7.00000000e-01\n",
      "  -6.00000000e-01 -5.00000000e-01 -4.00000000e-01 -3.00000000e-01\n",
      "  -2.00000000e-01 -1.00000000e-01 -2.22044605e-16  1.00000000e-01\n",
      "   2.00000000e-01  3.00000000e-01  4.00000000e-01  5.00000000e-01\n",
      "   6.00000000e-01  7.00000000e-01  8.00000000e-01  9.00000000e-01]\n",
      " [-1.00000000e+00 -9.00000000e-01 -8.00000000e-01 -7.00000000e-01\n",
      "  -6.00000000e-01 -5.00000000e-01 -4.00000000e-01 -3.00000000e-01\n",
      "  -2.00000000e-01 -1.00000000e-01 -2.22044605e-16  1.00000000e-01\n",
      "   2.00000000e-01  3.00000000e-01  4.00000000e-01  5.00000000e-01\n",
      "   6.00000000e-01  7.00000000e-01  8.00000000e-01  9.00000000e-01]\n",
      " [-1.00000000e+00 -9.00000000e-01 -8.00000000e-01 -7.00000000e-01\n",
      "  -6.00000000e-01 -5.00000000e-01 -4.00000000e-01 -3.00000000e-01\n",
      "  -2.00000000e-01 -1.00000000e-01 -2.22044605e-16  1.00000000e-01\n",
      "   2.00000000e-01  3.00000000e-01  4.00000000e-01  5.00000000e-01\n",
      "   6.00000000e-01  7.00000000e-01  8.00000000e-01  9.00000000e-01]\n",
      " [-1.00000000e+00 -9.00000000e-01 -8.00000000e-01 -7.00000000e-01\n",
      "  -6.00000000e-01 -5.00000000e-01 -4.00000000e-01 -3.00000000e-01\n",
      "  -2.00000000e-01 -1.00000000e-01 -2.22044605e-16  1.00000000e-01\n",
      "   2.00000000e-01  3.00000000e-01  4.00000000e-01  5.00000000e-01\n",
      "   6.00000000e-01  7.00000000e-01  8.00000000e-01  9.00000000e-01]\n",
      " [-1.00000000e+00 -9.00000000e-01 -8.00000000e-01 -7.00000000e-01\n",
      "  -6.00000000e-01 -5.00000000e-01 -4.00000000e-01 -3.00000000e-01\n",
      "  -2.00000000e-01 -1.00000000e-01 -2.22044605e-16  1.00000000e-01\n",
      "   2.00000000e-01  3.00000000e-01  4.00000000e-01  5.00000000e-01\n",
      "   6.00000000e-01  7.00000000e-01  8.00000000e-01  9.00000000e-01]\n",
      " [-1.00000000e+00 -9.00000000e-01 -8.00000000e-01 -7.00000000e-01\n",
      "  -6.00000000e-01 -5.00000000e-01 -4.00000000e-01 -3.00000000e-01\n",
      "  -2.00000000e-01 -1.00000000e-01 -2.22044605e-16  1.00000000e-01\n",
      "   2.00000000e-01  3.00000000e-01  4.00000000e-01  5.00000000e-01\n",
      "   6.00000000e-01  7.00000000e-01  8.00000000e-01  9.00000000e-01]\n",
      " [-1.00000000e+00 -9.00000000e-01 -8.00000000e-01 -7.00000000e-01\n",
      "  -6.00000000e-01 -5.00000000e-01 -4.00000000e-01 -3.00000000e-01\n",
      "  -2.00000000e-01 -1.00000000e-01 -2.22044605e-16  1.00000000e-01\n",
      "   2.00000000e-01  3.00000000e-01  4.00000000e-01  5.00000000e-01\n",
      "   6.00000000e-01  7.00000000e-01  8.00000000e-01  9.00000000e-01]\n",
      " [-1.00000000e+00 -9.00000000e-01 -8.00000000e-01 -7.00000000e-01\n",
      "  -6.00000000e-01 -5.00000000e-01 -4.00000000e-01 -3.00000000e-01\n",
      "  -2.00000000e-01 -1.00000000e-01 -2.22044605e-16  1.00000000e-01\n",
      "   2.00000000e-01  3.00000000e-01  4.00000000e-01  5.00000000e-01\n",
      "   6.00000000e-01  7.00000000e-01  8.00000000e-01  9.00000000e-01]\n",
      " [-1.00000000e+00 -9.00000000e-01 -8.00000000e-01 -7.00000000e-01\n",
      "  -6.00000000e-01 -5.00000000e-01 -4.00000000e-01 -3.00000000e-01\n",
      "  -2.00000000e-01 -1.00000000e-01 -2.22044605e-16  1.00000000e-01\n",
      "   2.00000000e-01  3.00000000e-01  4.00000000e-01  5.00000000e-01\n",
      "   6.00000000e-01  7.00000000e-01  8.00000000e-01  9.00000000e-01]\n",
      " [-1.00000000e+00 -9.00000000e-01 -8.00000000e-01 -7.00000000e-01\n",
      "  -6.00000000e-01 -5.00000000e-01 -4.00000000e-01 -3.00000000e-01\n",
      "  -2.00000000e-01 -1.00000000e-01 -2.22044605e-16  1.00000000e-01\n",
      "   2.00000000e-01  3.00000000e-01  4.00000000e-01  5.00000000e-01\n",
      "   6.00000000e-01  7.00000000e-01  8.00000000e-01  9.00000000e-01]\n",
      " [-1.00000000e+00 -9.00000000e-01 -8.00000000e-01 -7.00000000e-01\n",
      "  -6.00000000e-01 -5.00000000e-01 -4.00000000e-01 -3.00000000e-01\n",
      "  -2.00000000e-01 -1.00000000e-01 -2.22044605e-16  1.00000000e-01\n",
      "   2.00000000e-01  3.00000000e-01  4.00000000e-01  5.00000000e-01\n",
      "   6.00000000e-01  7.00000000e-01  8.00000000e-01  9.00000000e-01]\n",
      " [-1.00000000e+00 -9.00000000e-01 -8.00000000e-01 -7.00000000e-01\n",
      "  -6.00000000e-01 -5.00000000e-01 -4.00000000e-01 -3.00000000e-01\n",
      "  -2.00000000e-01 -1.00000000e-01 -2.22044605e-16  1.00000000e-01\n",
      "   2.00000000e-01  3.00000000e-01  4.00000000e-01  5.00000000e-01\n",
      "   6.00000000e-01  7.00000000e-01  8.00000000e-01  9.00000000e-01]]\n"
     ]
    }
   ],
   "source": [
    "x_min, x_max = X[:, 0].min() - 1, X[:, 0].max() + 1\n",
    "y_min, y_max = X[:, 1].min() - 1, X[:, 1].max() + 1\n",
    "\n",
    "h = 0.1\n",
    "xx, yy  = np.meshgrid(np.arange(x_min, x_max, h), np.arange(y_min, y_max, h))\n",
    "print(xx)"
   ]
  },
  {
   "cell_type": "code",
   "execution_count": 51,
   "metadata": {},
   "outputs": [],
   "source": [
    "def plot_decision_boundaries(classifier, X, y, means, title=\"Decision Boundaries\"):\n",
    "    x_min, x_max = X[:, 0].min() - 1, X[:, 0].max() + 1\n",
    "    y_min, y_max = X[:, 1].min() - 1, X[:, 1].max() + 1\n",
    "\n",
    "    h = 0.1\n",
    "    xx, yy      = np.meshgrid(np.arange(x_min, x_max, h), np.arange(y_min, y_max, h))\n",
    "    grid_points = np.c_[xx.ravel(), yy.ravel()]\n",
    "    Z           = classifier.predict(grid_points)\n",
    "    Z           = Z.reshape(xx.shape)\n",
    "\n",
    "    plt.figure(figsize=(10,8))\n",
    "    colors = plt.get_cmap('tab10', np.unique(y).size + 1)\n",
    "\n",
    "    plt.contourf(xx, yy, Z, alpha=0.5, cmap=colors)\n",
    "    plt.scatter(X[:, 0], X[:, 1], c=y, cmap=colors, s=40, edgecolors='k')\n",
    "\n",
    "    plt.title(title)\n",
    "    plt.xlabel(\"Feature 1\")\n",
    "    plt.ylabel(\"Feature 2\")\n",
    "    plt.legend(handles=[\n",
    "    plt.Line2D([0], [0], marker='o', color='w', label=f'Class {i}',\n",
    "                   markerfacecolor=colors(i), markersize=10) for i in range(np.unique(y).size)\n",
    "    ], loc='upper right')\n",
    "    plt.show()\n"
   ]
  },
  {
   "cell_type": "code",
   "execution_count": null,
   "metadata": {},
   "outputs": [],
   "source": [
    "k = 5\n",
    "knn = KnnClassifier(k=k)\n",
    "knn.fit(X_train, y_train)\n",
    "\n",
    "plot_decision_boundaries(\n",
    "    classifier=knn,\n",
    "    X=X_train,\n",
    "    y=y_train,\n",
    "    means=class_means,\n",
    "    title=f'kNN Decision Boundaries (k={k}, Distance=Euclidean)'\n",
    ")"
   ]
  },
  {
   "cell_type": "markdown",
   "metadata": {},
   "source": [
    "## Appendices"
   ]
  },
  {
   "cell_type": "markdown",
   "metadata": {},
   "source": [
    "### Appendix1"
   ]
  },
  {
   "cell_type": "markdown",
   "metadata": {},
   "source": [
    "\n",
    "The active selection X[y == i, 0], X[y == i, 1] is a way to filter and access specific elements from a NumPy array X based on a condition applied to another array y. Here’s a detailed breakdown:\n",
    "\n",
    "1. **Condition Filtering**: The expression y == i creates a boolean array where each element is `True` if the corresponding element in y is equal to i, and `False` otherwise. This boolean array is used to filter the rows of X\n",
    "2. **Indexing**: \n",
    "X[y == i, 0] and X[y == i, 1] use this boolean array to select rows from X where the condition y == i is `True`. The `0` and `1` after the comma specify that we are selecting the first and second columns of these filtered rows, respectively.\n",
    "\n",
    "3. **Tuple Creation**: The result is a tuple containing two arrays: the first array consists of the elements from the first column of X where the condition is met, and the second array consists of the elements from the second column of X\n",
    "where the condition is met.\n",
    "\n",
    "In the context of a scatter plot, this selection is typically used to plot points of a specific class or category (denoted by i) with their corresponding x and y coordinates. This allows for visual differentiation of data points belonging to different classes."
   ]
  },
  {
   "cell_type": "code",
   "execution_count": 33,
   "metadata": {},
   "outputs": [
    {
     "name": "stdout",
     "output_type": "stream",
     "text": [
      "i: 0\n",
      "X[y == 0, 0]: [1 5]\n",
      "X[y == 0, 1]: [2 6]\n",
      "i: 1\n",
      "X[y == 1, 0]: [3 7]\n",
      "X[y == 1, 1]: [4 8]\n"
     ]
    },
    {
     "data": {
      "image/png": "[encoded data removed]",
      "text/plain": [
       "<Figure size 432x288 with 1 Axes>"
      ]
     },
     "metadata": {
      "needs_background": "light"
     },
     "output_type": "display_data"
    }
   ],
   "source": [
    "# Sample data\n",
    "X = np.array([[1, 2], [3, 4], [5, 6], [7, 8]])\n",
    "y = np.array([0, 1, 0, 1])\n",
    "colors = ['red', 'blue']\n",
    "\n",
    "# Plotting\n",
    "for i in np.unique(y):\n",
    "    print(f\"i: {i}\")\n",
    "    print(f\"X[y == {i}, 0]: {X[y == i, 0]}\")\n",
    "    print(f\"X[y == {i}, 1]: {X[y == i, 1]}\")\n",
    "    #X[y == i, 0]: Selects the first feature (x-coordinate) of samples where the label y is equal to i.\n",
    "    #X[y == i, 1]: Selects the second feature (y-coordinate) of samples where the label y is equal to i.\n",
    "    plt.scatter(X[y == i, 0], X[y == i, 1], color=colors[i], label=f'Class {i}')\n",
    "\n",
    "\n",
    "plt.xlabel('Feature 1')\n",
    "plt.ylabel('Feature 2')\n",
    "plt.legend()\n",
    "plt.show()"
   ]
  },
  {
   "cell_type": "markdown",
   "metadata": {},
   "source": [
    "No problem! Let's break down `np.meshgrid` in a simpler way with a focus on what it does and how it can be used.\n",
    "\n",
    "### What is `np.meshgrid`?\n",
    "\n",
    "`np.meshgrid` is a function that helps you create a grid of coordinates from two or more 1D arrays (lists of numbers). This is particularly useful when you want to evaluate functions over a grid or create plots in 2D space.\n",
    "\n",
    "### How Does It Work?\n",
    "\n",
    "Imagine you have two lists of numbers, one representing the x-coordinates and the other representing the y-coordinates. `np.meshgrid` takes these two lists and creates two 2D arrays (grids) that represent all combinations of the x and y coordinates.\n",
    "\n",
    "### Example Step-by-Step\n",
    "\n",
    "Let's say we have the following two lists:\n",
    "\n",
    "- **x-coordinates**: `[0, 1, 2]`\n",
    "- **y-coordinates**: `[0, 1]`\n",
    "\n",
    "When we use `np.meshgrid`, it will create two 2D arrays:\n",
    "\n",
    "1. **X Array**: This will contain the x-coordinates repeated for each y-coordinate.\n",
    "2. **Y Array**: This will contain the y-coordinates repeated for each x-coordinate.\n",
    "\n",
    "### Code Example\n",
    "\n",
    "Here's how it looks in code:\n",
    "\n",
    "```python\n",
    "import numpy as np\n",
    "\n",
    "# Define the x and y coordinates\n",
    "x = np.array([0, 1, 2])  # x-coordinates\n",
    "y = np.array([0, 1])     # y-coordinates\n",
    "\n",
    "# Create the meshgrid\n",
    "X, Y = np.meshgrid(x, y)\n",
    "\n",
    "print(\"X:\\n\", X)\n",
    "print(\"Y:\\n\", Y)\n",
    "```\n",
    "\n",
    "### Output Explanation\n",
    "\n",
    "When you run the code, you get:\n",
    "\n",
    "```\n",
    "X:\n",
    " [[0 1 2]\n",
    " [0 1 2]]\n",
    "\n",
    "Y:\n",
    " [[0 0 0]\n",
    " [1 1 1]]\n",
    "```\n",
    "\n",
    "- **X Array**: \n",
    "  - The first row is `[0, 1, 2]` (the x-coordinates).\n",
    "  - The second row is also `[0, 1, 2]` (the same x-coordinates repeated for each y-coordinate).\n",
    "\n",
    "- **Y Array**:\n",
    "  - The first row is `[0, 0, 0]` (the first y-coordinate repeated for each x-coordinate).\n",
    "  - The second row is `[1, 1, 1]` (the second y-coordinate repeated for each x-coordinate).\n",
    "\n",
    "### Visualizing the Grid\n",
    "\n",
    "You can think of the output as a grid of points:\n",
    "\n",
    "- The point `(0, 0)` corresponds to `X[0, 0]` and `Y[0, 0]`.\n",
    "- The point `(1, 0)` corresponds to `X[0, 1]` and `Y[0, 1]`.\n",
    "- The point `(2, 0)` corresponds to `X[0, 2]` and `Y[0, 2]`.\n",
    "- The point `(0, 1)` corresponds to `X[1, 0]` and `Y[1, 0]`.\n",
    "- The point `(1, 1)` corresponds to `X[1, 1]` and `Y[1, 1]`.\n",
    "- The point `(2, 1)` corresponds to `X[1, 2]` and `Y[1, 2]`.\n",
    "\n",
    "### Summary\n",
    "\n",
    "- `np.meshgrid` takes two 1D arrays and creates two 2D arrays that represent all combinations of the x and y coordinates.\n",
    "- This is useful for evaluating functions over a grid or for plotting in 2D.\n",
    "\n",
    "If you have any specific questions or need further clarification, feel free to ask!"
   ]
  },
  {
   "cell_type": "markdown",
   "metadata": {},
   "source": [
    "The line of code you provided is using Matplotlib, a popular plotting library in Python, to create a colormap for visualizing data. Let's break it down:\n",
    "\n",
    "### Code Breakdown\n",
    "\n",
    "```python\n",
    "colors = plt.get_cmap('tab10', np.unique(y).size + 1)\n",
    "```\n",
    "\n",
    "1. **`plt.get_cmap('tab10', ...)`**:\n",
    "   - This function retrieves a colormap from Matplotlib. The `'tab10'` colormap is one of the predefined colormaps in Matplotlib, specifically designed for categorical data. It contains 10 distinct colors that are easily distinguishable from one another.\n",
    "   - The second argument specifies the number of colors to be used from the colormap.\n",
    "\n",
    "2. **`np.unique(y)`**:\n",
    "   - This function from NumPy returns the unique values in the array `y`. If `y` contains categorical data (like class labels), `np.unique(y)` will give you the different categories present in `y`.\n",
    "\n",
    "3. **`np.unique(y).size`**:\n",
    "   - This part calculates the number of unique values (or categories) in `y`. The `.size` attribute returns the count of these unique values.\n",
    "\n",
    "4. **`np.unique(y).size + 1`**:\n",
    "   - The `+ 1` is added to ensure that there is one extra color available in case there are more unique categories than the default 10 colors in the `'tab10'` colormap. This is useful if you want to ensure that you have enough colors to represent all unique categories in your data.\n",
    "\n",
    "### What the Code Does\n",
    "\n",
    "Overall, this line of code creates a colormap object called `colors` that contains a set of colors from the `'tab10'` colormap, with a number of colors equal to the number of unique categories in `y` plus one. This colormap can then be used for plotting, ensuring that each unique category in `y` is represented by a distinct color.\n",
    "\n",
    "### Example Usage\n",
    "\n",
    "Here's a simple example of how this might be used in a plotting context:\n",
    "\n",
    "```python\n",
    "import numpy as np\n",
    "import matplotlib.pyplot as plt\n",
    "\n",
    "# Example data\n",
    "y = np.array([0, 1, 2, 1, 0, 2, 3])  # Some categorical data\n",
    "\n",
    "# Get the colormap\n",
    "colors = plt.get_cmap('tab10', np.unique(y).size + 1)\n",
    "\n",
    "# Example of using the colors in a scatter plot\n",
    "for i in np.unique(y):\n",
    "    plt.scatter(np.random.rand(10), np.random.rand(10), color=colors(i), label=f'Category {i}')\n",
    "\n",
    "plt.legend()\n",
    "plt.show()\n",
    "```\n",
    "\n",
    "In this example, each unique category in `y` is represented by a different color in the scatter plot."
   ]
  },
  {
   "cell_type": "markdown",
   "metadata": {},
   "source": [
    "Certainly! Let's break down each of the two lines of code you provided, which are used for plotting in Matplotlib, specifically for creating contour plots and scatter plots.\n",
    "\n",
    "### Line 1: `plt.contourf(xx, yy, Z, alpha=0.5, cmap=colors)`\n",
    "\n",
    "#### Explanation of Parameters:\n",
    "\n",
    "1. **`plt.contourf(...)`**:\n",
    "   - This function creates filled contour plots. It is used to visualize three-dimensional data in two dimensions by plotting contour lines and filling the areas between them.\n",
    "\n",
    "2. **`xx` and `yy`**:\n",
    "   - These are typically 2D arrays created using `np.meshgrid`, representing the grid of x and y coordinates over which the function `Z` is evaluated. \n",
    "   - `xx` contains the x-coordinates, and `yy` contains the y-coordinates.\n",
    "\n",
    "3. **`Z`**:\n",
    "   - This is a 2D array that contains the values of the function you want to visualize at each point defined by the coordinates in `xx` and `yy`. The values in `Z` determine the height of the contour lines.\n",
    "\n",
    "4. **`alpha=0.5`**:\n",
    "   - This parameter sets the transparency level of the filled contours. An `alpha` value of 0 means fully transparent, and a value of 1 means fully opaque. Here, `0.5` means the contours will be semi-transparent.\n",
    "\n",
    "5. **`cmap=colors`**:\n",
    "   - This specifies the colormap to use for coloring the filled contours. The `colors` variable is expected to be a colormap object (e.g., created using `plt.get_cmap(...)`), which defines how the values in `Z` are mapped to colors.\n",
    "\n",
    "#### What This Line Does:\n",
    "This line creates a filled contour plot based on the values in `Z`, using the x-coordinates from `xx` and the y-coordinates from `yy`. The contours are filled with colors defined by the `colors` colormap, and they are semi-transparent due to the `alpha` setting.\n",
    "\n",
    "### Line 2: `plt.scatter(X[:, 0], X[:, 1], c=y, cmap=colors, s=40, edgecolors='k')`\n",
    "\n",
    "#### Explanation of Parameters:\n",
    "\n",
    "1. **`plt.scatter(...)`**:\n",
    "   - This function creates a scatter plot, which displays individual data points on a 2D plane.\n",
    "\n",
    "2. **`X[:, 0]` and `X[:, 1]`**:\n",
    "   - Here, `X` is typically a 2D array where each row represents a data point and each column represents a feature. \n",
    "   - `X[:, 0]` extracts all the values from the first column (x-coordinates), and `X[:, 1]` extracts all the values from the second column (y-coordinates).\n",
    "\n",
    "3. **`c=y`**:\n",
    "   - This parameter specifies the color of each point in the scatter plot based on the values in `y`. The `y` array usually contains categorical labels or class indices that correspond to the data points in `X`.\n",
    "\n",
    "4. **`cmap=colors`**:\n",
    "   - Similar to the first line, this specifies the colormap to use for coloring the points in the scatter plot based on the values in `y`.\n",
    "\n",
    "5. **`s=40`**:\n",
    "   - This parameter sets the size of the scatter plot markers. A value of `40` means that the markers will be relatively large.\n",
    "\n",
    "6. **`edgecolors='k'`**:\n",
    "   - This parameter sets the color of the edges of the scatter plot markers. Here, `'k'` stands for black, meaning the edges of the markers will be black.\n",
    "\n",
    "#### What This Line Does:\n",
    "This line creates a scatter plot of the data points defined by `X`, where the x-coordinates are taken from the first column and the y-coordinates from the second column. The color of each point is determined by the corresponding value in `y`, using the specified colormap. The markers are set to a size of 40 and have black edges.\n",
    "\n",
    "### Summary\n",
    "\n",
    "- The first line creates a filled contour plot to visualize a function over a grid defined by `xx` and `yy`, using the values in `Z` to determine the color of the contours.\n",
    "- The second line overlays a scatter plot of data points on top of the contour plot, coloring the points based on their class labels in `y`.\n",
    "\n",
    "Together, these two lines allow you to visualize both the underlying function (through contours) and the actual data points (through the scatter plot) in a single plot, which is useful for understanding the relationship between the data and the function being visualized."
   ]
  },
  {
   "cell_type": "code",
   "execution_count": null,
   "metadata": {},
   "outputs": [
    {
     "data": {
      "image/png": "[encoded data removed]",
      "text/plain": [
       "<Figure size 576x432 with 2 Axes>"
      ]
     },
     "metadata": {
      "needs_background": "light"
     },
     "output_type": "display_data"
    }
   ],
   "source": [
    "\n",
    "# Step 1: Create a grid of x and y values\n",
    "x = np.linspace(-10, 10, 100)  # 100 points from -10 to 10\n",
    "y = np.linspace(-10, 10, 100)  # 100 points from -10 to 10\n",
    "X, Y = np.meshgrid(x, y)        # Create a meshgrid\n",
    "\n",
    "\n",
    "Z = np.sqrt(X**2 + Y**2)  # Calculate z values for the cone\n",
    "\n",
    "# Step 3: Create the contour plot\n",
    "plt.figure(figsize=(8, 6))\n",
    "contour = plt.contourf(Z, levels=50, cmap='viridis')  # Filled contour plot\n",
    "plt.colorbar(contour)  # Add a color bar to indicate the scale\n",
    "plt.title('Contour Plot of z = x^2')\n",
    "plt.xlabel('x')\n",
    "plt.ylabel('y')\n",
    "plt.grid()\n",
    "plt.show()"
   ]
  },
  {
   "cell_type": "markdown",
   "metadata": {},
   "source": []
  }
 ],
 "metadata": {
  "kernelspec": {
   "display_name": "Python 3",
   "language": "python",
   "name": "python3"
  },
  "language_info": {
   "codemirror_mode": {
    "name": "ipython",
    "version": 3
   },
   "file_extension": ".py",
   "mimetype": "text/x-python",
   "name": "python",
   "nbconvert_exporter": "python",
   "pygments_lexer": "ipython3",
   "version": "3.10.1"
  }
 },
 "nbformat": 4,
 "nbformat_minor": 2
}
