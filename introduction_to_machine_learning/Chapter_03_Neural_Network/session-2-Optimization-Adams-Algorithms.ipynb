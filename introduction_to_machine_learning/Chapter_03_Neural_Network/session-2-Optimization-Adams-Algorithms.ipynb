{
 "cells": [
  {
   "cell_type": "code",
   "execution_count": 1,
   "id": "39d495c5",
   "metadata": {},
   "outputs": [],
   "source": [
    "import numpy as np\n",
    "from sklearn.datasets import fetch_openml\n",
    "from sklearn.model_selection import train_test_split\n",
    "from sklearn.preprocessing import OneHotEncoder"
   ]
  },
  {
   "cell_type": "markdown",
   "id": "373853e7",
   "metadata": {},
   "source": [
    "# Load MNIST:"
   ]
  },
  {
   "cell_type": "code",
   "execution_count": null,
   "id": "735e3bca",
   "metadata": {},
   "outputs": [],
   "source": []
  },
  {
   "cell_type": "markdown",
   "id": "ab61ce14",
   "metadata": {},
   "source": [
    "### One-Hot Encoding:\n",
    "If we have y with such a labels: $y = [0, 1, 2, 1, 0]$\n",
    "and 0, 1, 2 represent the classes, for example 0 is class A(like shoes), 2 is Class B like shirts and 3 is class C like socks.\n",
    "\n",
    "now problem is, if we give this data directly to the machine learning algorithm, the model may thick 2 has an mathematical value but 2 is just an class label so we should represent this classes or categories in a another way.\n",
    "\n",
    "instead of using a single number we will assign a vector from 0s and 1s to each class:\n",
    "$$class A or 0 will be: [1, 0, 0]$$\n",
    "$$class B or 1 will be: [0, 1, 0]$$\n",
    "$$class C or 2 will be: [0, 0, 1]$$\n",
    "as a result each label is now independently defined with out any ordering such bigger or smaller.\n",
    "\n",
    "Our Original y after one-hot encoding:\n",
    "```python\n",
    "\n",
    "[\n",
    " [1, 0, 0],  # class 0\n",
    " [0, 1, 0],  # class 1\n",
    " [0, 0, 1],  # class 2\n",
    " [0, 1, 0],  # class 1\n",
    " [1, 0, 0]   # class 0\n",
    "]\n",
    "```\n"
   ]
  },
  {
   "cell_type": "markdown",
   "id": "dacd86c1",
   "metadata": {},
   "source": [
    "# Tiny Adam"
   ]
  },
  {
   "cell_type": "code",
   "execution_count": 2,
   "id": "d73b9a4a",
   "metadata": {},
   "outputs": [
    {
     "ename": "IndentationError",
     "evalue": "expected an indented block after function definition on line 2 (Temp/ipykernel_6668/3265229557.py, line 3)",
     "output_type": "error",
     "traceback": [
      "\u001b[1;36m  File \u001b[1;32m\"C:\\Users\\Surface\\AppData\\Local\\Temp/ipykernel_6668/3265229557.py\"\u001b[1;36m, line \u001b[1;32m3\u001b[0m\n\u001b[1;33m    \u001b[0m\n\u001b[1;37m    ^\u001b[0m\n\u001b[1;31mIndentationError\u001b[0m\u001b[1;31m:\u001b[0m expected an indented block after function definition on line 2\n"
     ]
    }
   ],
   "source": [
    "class SimpleNN:\n",
    "    def __init__():\n",
    "        "
   ]
  },
  {
   "cell_type": "code",
   "execution_count": null,
   "id": "3766cd68",
   "metadata": {},
   "outputs": [],
   "source": []
  }
 ],
 "metadata": {
  "kernelspec": {
   "display_name": "Python 3",
   "language": "python",
   "name": "python3"
  },
  "language_info": {
   "codemirror_mode": {
    "name": "ipython",
    "version": 3
   },
   "file_extension": ".py",
   "mimetype": "text/x-python",
   "name": "python",
   "nbconvert_exporter": "python",
   "pygments_lexer": "ipython3",
   "version": "3.10.1"
  }
 },
 "nbformat": 4,
 "nbformat_minor": 5
}
