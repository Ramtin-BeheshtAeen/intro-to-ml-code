{
 "cells": [
  {
   "cell_type": "markdown",
   "metadata": {},
   "source": [
    "## Compare SSE and perceptron classifier"
   ]
  },
  {
   "cell_type": "code",
   "execution_count": 3,
   "metadata": {},
   "outputs": [],
   "source": [
    "import numpy as np\n",
    "import matplotlib.pyplot as plt\n",
    "np.random.seed(42)"
   ]
  },
  {
   "cell_type": "markdown",
   "metadata": {},
   "source": [
    "### Section1, Generationg synthetic data:\n"
   ]
  },
  {
   "cell_type": "code",
   "execution_count": 5,
   "metadata": {},
   "outputs": [
    {
     "data": {
      "image/png": "[encoded data removed]",
      "text/plain": [
       "<Figure size 576x432 with 1 Axes>"
      ]
     },
     "metadata": {
      "needs_background": "light"
     },
     "output_type": "display_data"
    }
   ],
   "source": [
    "#in summary, this code generates a 2D array of 100 random points\n",
    "#in 2D space, where each point is normally distributed around the\n",
    "# mean (4, 4) with a standard deviation of 0.25.\n",
    "class_A = np.random.normal(loc=(4,4), scale=0.25, size=(100,2))\n",
    "#This code creates a 1D array of ones with the same number of\n",
    "#elements as the number of rows in the class_A array.\n",
    "label_A = np.ones(class_A.shape[0])\n",
    "\n",
    "class_B = np.random.normal(loc=(-1, -1), scale=1.5, size=(50,2))\n",
    "label_B = np.ones(class_B.shape[0])\n",
    "\n",
    "plt.figure(figsize=(8, 6))\n",
    "plt.scatter(class_A[:, 0], class_A[:, 1], label='Class A', color='blue')\n",
    "plt.scatter(class_B[:, 0], class_B[:, 1], label='Class B', color='red')\n",
    "plt.title(\"Generated Data: Class A and Class B\")\n",
    "plt.xlabel(\"x1\")\n",
    "plt.ylabel(\"x2\")\n",
    "plt.legend()\n",
    "plt.show()"
   ]
  },
  {
   "cell_type": "markdown",
   "metadata": {},
   "source": [
    "#### using SSE cost function from linear regression for an linear classification problem:"
   ]
  },
  {
   "cell_type": "markdown",
   "metadata": {},
   "source": [
    "### Section3, Implementing a Perceptron Neural Network:\n",
    "\n"
   ]
  },
  {
   "cell_type": "code",
   "execution_count": null,
   "metadata": {},
   "outputs": [],
   "source": [
    "class Perceptron:\n",
    "    def __init__(self, learning_rate=0.01, n_epochs=1000):\n",
    "        self.learning_rate = learning_rate\n",
    "        self.n_epochs      = n_epochs\n",
    "        self.weights       = None\n",
    "        self.bias          = None\n",
    "        self.errors        = []\n",
    "    \n",
    "    def fit(self, X, y)"
   ]
  }
 ],
 "metadata": {
  "kernelspec": {
   "display_name": "Python 3",
   "language": "python",
   "name": "python3"
  },
  "language_info": {
   "codemirror_mode": {
    "name": "ipython",
    "version": 3
   },
   "file_extension": ".py",
   "mimetype": "text/x-python",
   "name": "python",
   "nbconvert_exporter": "python",
   "pygments_lexer": "ipython3",
   "version": "3.10.1"
  }
 },
 "nbformat": 4,
 "nbformat_minor": 2
}
