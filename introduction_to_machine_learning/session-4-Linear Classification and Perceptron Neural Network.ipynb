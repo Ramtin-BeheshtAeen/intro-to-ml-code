{
 "cells": [
  {
   "cell_type": "markdown",
   "metadata": {},
   "source": [
    "## Compare SSE and perceptron classifier"
   ]
  },
  {
   "cell_type": "code",
   "execution_count": 2,
   "metadata": {},
   "outputs": [],
   "source": [
    "import numpy as np\n",
    "import matplotlib.pyplot as plt\n",
    "from numpy.linalg import inv\n",
    "np.random.seed(42)"
   ]
  },
  {
   "cell_type": "markdown",
   "metadata": {},
   "source": [
    "### Section1: Solve Regression Problem with linear regression cost function and see the results"
   ]
  },
  {
   "cell_type": "markdown",
   "metadata": {},
   "source": [
    "#### Part1, Generating synthetic data:"
   ]
  },
  {
   "cell_type": "code",
   "execution_count": 3,
   "metadata": {},
   "outputs": [
    {
     "data": {
      "image/png": "[encoded data removed]",
      "text/plain": [
       "<Figure size 576x432 with 1 Axes>"
      ]
     },
     "metadata": {
      "needs_background": "light"
     },
     "output_type": "display_data"
    }
   ],
   "source": [
    "#in summary, this code generates a 2D array of 100 random points\n",
    "#in 2D space, where each point is normally distributed around the\n",
    "# mean (4, 4) with a standard deviation of 0.25.\n",
    "class_A = np.random.normal(loc=(4,4), scale=0.25, size=(100,2))\n",
    "#This code creates a 1D array of ones with the same number of\n",
    "#elements as the number of rows in the class_A array.\n",
    "label_A = np.ones(class_A.shape[0])\n",
    "\n",
    "class_B = np.random.normal(loc=(-1, -1), scale=1.5, size=(50,2))\n",
    "label_B = np.zeros(class_B.shape[0])\n",
    "\n",
    "plt.figure(figsize=(8, 6))\n",
    "plt.scatter(class_A[:, 0], class_A[:, 1], label='Class A', color='blue')\n",
    "plt.scatter(class_B[:, 0], class_B[:, 1], label='Class B', color='red')\n",
    "plt.title(\"Generated Data: Class A and Class B\")\n",
    "plt.xlabel(\"x1\")\n",
    "plt.ylabel(\"x2\")\n",
    "plt.legend()\n",
    "plt.show()"
   ]
  },
  {
   "cell_type": "markdown",
   "metadata": {},
   "source": [
    "#### using SSE cost function from linear regression for an linear classification problem:"
   ]
  },
  {
   "cell_type": "code",
   "execution_count": null,
   "metadata": {},
   "outputs": [
    {
     "name": "stdout",
     "output_type": "stream",
     "text": [
      "(150, 2)\n",
      "(150,)\n",
      "w0 = 0.11171713432638411\n",
      "w1 = 0.12357789840093363\n"
     ]
    }
   ],
   "source": [
    "X = np.vstack((class_A, class_B))\n",
    "y = np.hstack((label_A, label_B))\n",
    "print(X.shape)\n",
    "print(y.shape)\n",
    "\n",
    "def polynomial_regression_closed_form(X, y, degree):\n",
    "    X_poly =  X\n",
    "    #(x^T x)^-1 * y^T * X \n",
    "    w = np.dot(inv(np.dot(X_poly.transpose(), X_poly)), np.dot(y.T, X_poly ) ) \n",
    "    return w\n",
    "\n",
    "def print_parameter_vectors(w):\n",
    "    for i in range(len(w)):\n",
    "        print(f\"w{i} = {w[i]}\")\n",
    "\n",
    "#Get parameter vector w\n",
    "w = polynomial_regression_closed_form(X, y, degree=2)\n",
    "print_parameter_vectors(w)\n"
   ]
  },
  {
   "cell_type": "markdown",
   "metadata": {},
   "source": [
    "### Section3, Implementing a Perceptron Neural Network:\n",
    "\n"
   ]
  },
  {
   "cell_type": "code",
   "execution_count": null,
   "metadata": {},
   "outputs": [
    {
     "ename": "SyntaxError",
     "evalue": "expected ':' (Temp/ipykernel_17704/465624395.py, line 9)",
     "output_type": "error",
     "traceback": [
      "\u001b[1;36m  File \u001b[1;32m\"C:\\Users\\Surface\\AppData\\Local\\Temp/ipykernel_17704/465624395.py\"\u001b[1;36m, line \u001b[1;32m9\u001b[0m\n\u001b[1;33m    def fit(self, X, y)\u001b[0m\n\u001b[1;37m                       ^\u001b[0m\n\u001b[1;31mSyntaxError\u001b[0m\u001b[1;31m:\u001b[0m expected ':'\n"
     ]
    }
   ],
   "source": [
    "class Perceptron:\n",
    "    def __init__(self, learning_rate=0.01, n_epochs=1000):\n",
    "        self.learning_rate = learning_rate\n",
    "        self.n_epochs      = n_epochs\n",
    "        self.weights       = None\n",
    "        self.bias          = None\n",
    "        self.errors        = []\n",
    "    \n",
    "    def fit(self, X, y)"
   ]
  }
 ],
 "metadata": {
  "kernelspec": {
   "display_name": "Python 3",
   "language": "python",
   "name": "python3"
  },
  "language_info": {
   "codemirror_mode": {
    "name": "ipython",
    "version": 3
   },
   "file_extension": ".py",
   "mimetype": "text/x-python",
   "name": "python",
   "nbconvert_exporter": "python",
   "pygments_lexer": "ipython3",
   "version": "3.10.1"
  }
 },
 "nbformat": 4,
 "nbformat_minor": 2
}
