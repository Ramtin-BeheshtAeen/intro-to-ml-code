{
 "cells": [
  {
   "cell_type": "code",
   "execution_count": 27,
   "metadata": {},
   "outputs": [
    {
     "name": "stdout",
     "output_type": "stream",
     "text": [
      "[5, 3, -1, 2, 6] [14, 6, -5.5, 3.5, 18]\n"
     ]
    }
   ],
   "source": [
    "x = [5, 3, -1, 2, 6]\n",
    "y = [14, 6, -5.5, 3.5, 18]\n",
    "print(x, y)"
   ]
  },
  {
   "cell_type": "code",
   "execution_count": 28,
   "metadata": {},
   "outputs": [
    {
     "name": "stdout",
     "output_type": "stream",
     "text": [
      "n: 5 \n",
      " sum_of_x: 15 \n",
      " sum_of_y: 36.0 \n",
      " sum_of_xy_product: 208.5 \n",
      " cumulative_powers_of_x: 75\n"
     ]
    }
   ],
   "source": [
    "sum_of_x = 0\n",
    "sum_of_y = 0\n",
    "sum_of_xy_product = 0\n",
    "cumulative_powers_of_x = 0\n",
    "n = len(x) \n",
    "\n",
    "for i in range(n):\n",
    "    sum_of_x += x[i]\n",
    "    sum_of_y += y[i]\n",
    "    sum_of_xy_product += x[i] * y[i]\n",
    "    cumulative_powers_of_x += x[i] ** 2 \n",
    "\n",
    "print(\"n:\",n,\n",
    "    \"\\n sum_of_x:\", sum_of_x,\n",
    "    \"\\n sum_of_y:\", sum_of_y,\n",
    "    \"\\n sum_of_xy_product:\", sum_of_xy_product,\n",
    "    \"\\n cumulative_powers_of_x:\", cumulative_powers_of_x )\n",
    "\n"
   ]
  },
  {
   "cell_type": "code",
   "execution_count": 33,
   "metadata": {},
   "outputs": [
    {
     "name": "stdout",
     "output_type": "stream",
     "text": [
      "w1:  3.35\n",
      "w2:  -2.85\n"
     ]
    }
   ],
   "source": [
    "# y = ax + b\n",
    "# slope (a):\n",
    "w1 = (n * sum_of_xy_product - sum_of_x * sum_of_y ) / (n * cumulative_powers_of_x - sum_of_x**2)\n",
    "print(\"w1: \", w1)\n",
    "# intercept (b):\n",
    "w0 = (sum_of_y - w1 * sum_of_x) / n\n",
    "print(\"w2: \", w0)"
   ]
  },
  {
   "cell_type": "markdown",
   "metadata": {},
   "source": [
    "### illustrating This Expriment for 1000 of po ints(n=1000):"
   ]
  },
  {
   "cell_type": "code",
   "execution_count": null,
   "metadata": {},
   "outputs": [],
   "source": []
  },
  {
   "cell_type": "code",
   "execution_count": null,
   "metadata": {},
   "outputs": [],
   "source": []
  }
 ],
 "metadata": {
  "kernelspec": {
   "display_name": "Python 3",
   "language": "python",
   "name": "python3"
  },
  "language_info": {
   "codemirror_mode": {
    "name": "ipython",
    "version": 3
   },
   "file_extension": ".py",
   "mimetype": "text/x-python",
   "name": "python",
   "nbconvert_exporter": "python",
   "pygments_lexer": "ipython3",
   "version": "3.11.0"
  }
 },
 "nbformat": 4,
 "nbformat_minor": 2
}
