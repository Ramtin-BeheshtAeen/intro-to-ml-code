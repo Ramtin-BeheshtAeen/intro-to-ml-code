{
 "cells": [
  {
   "cell_type": "markdown",
   "metadata": {},
   "source": [
    "# Logistic Regression"
   ]
  },
  {
   "cell_type": "markdown",
   "metadata": {},
   "source": [
    "## Binary Classification"
   ]
  },
  {
   "cell_type": "code",
   "execution_count": 4,
   "metadata": {},
   "outputs": [],
   "source": [
    "import numpy as np\n",
    "import matplotlib.pyplot as plt\n",
    "from sklearn.datasets import load_breast_cancer\n",
    "from sklearn.discriminant_analysis import StandardScaler\n",
    "from sklearn.model_selection import train_test_split\n",
    "from sklearn.metrics import confusion_matrix\n",
    "import seaborn as sns\n"
   ]
  },
  {
   "cell_type": "code",
   "execution_count": 5,
   "metadata": {},
   "outputs": [
    {
     "name": "stdout",
     "output_type": "stream",
     "text": [
      "['mean radius' 'mean texture' 'mean perimeter' 'mean area'\n",
      " 'mean smoothness' 'mean compactness' 'mean concavity'\n",
      " 'mean concave points' 'mean symmetry' 'mean fractal dimension'\n",
      " 'radius error' 'texture error' 'perimeter error' 'area error'\n",
      " 'smoothness error' 'compactness error' 'concavity error'\n",
      " 'concave points error' 'symmetry error' 'fractal dimension error'\n",
      " 'worst radius' 'worst texture' 'worst perimeter' 'worst area'\n",
      " 'worst smoothness' 'worst compactness' 'worst concavity'\n",
      " 'worst concave points' 'worst symmetry' 'worst fractal dimension']\n"
     ]
    }
   ],
   "source": [
    "breast_cancer_data = load_breast_cancer()\n",
    "X = breast_cancer_data.data\n",
    "y = breast_cancer_data.target #labels (0: malignant, 1:begin)\n",
    "print (breast_cancer_data.feature_names)"
   ]
  },
  {
   "cell_type": "markdown",
   "metadata": {},
   "source": [
    "#### Processing Data and Split them in two Test and Train:"
   ]
  },
  {
   "cell_type": "code",
   "execution_count": 6,
   "metadata": {},
   "outputs": [],
   "source": [
    "#standardizing the features:\n",
    "scaler = StandardScaler()\n",
    "X = scaler.fit_transform(X) #[Appendix 1]\n",
    "\n",
    "# add bias (x_0 = 1) term to X\n",
    "X_bias = np.hstack((X, np.ones((X.shape[0], 1))))\n",
    "\n",
    "X_train, X_val, y_train, y_val = train_test_split(\n",
    "    X_bias, y, test_size=0.2, random_state=42, stratify=y\n",
    ")"
   ]
  },
  {
   "cell_type": "markdown",
   "metadata": {},
   "source": [
    "#### Visualizing Breast Cancer Data"
   ]
  },
  {
   "cell_type": "code",
   "execution_count": 7,
   "metadata": {},
   "outputs": [
    {
     "data": {
      "image/png": "[encoded data removed]",
      "text/plain": [
       "<Figure size 576x432 with 1 Axes>"
      ]
     },
     "metadata": {
      "needs_background": "light"
     },
     "output_type": "display_data"
    }
   ],
   "source": [
    "#Visualizing just two features(mean perimeter and mean texture)\n",
    "X = breast_cancer_data.data[:, [2, 4]]  #selecting third till 5th column\n",
    "\n",
    "\n",
    "\n",
    "plt.figure(figsize=(8, 6))\n",
    "plt.scatter(X_train[y_train == 0, 0], X_train[y_train == 0, 1], color='red', label='Malignant')\n",
    "plt.scatter(X_train[y_train == 1, 0], X_train[y_train == 1, 1], color='blue', label='Benign')\n",
    "plt.xlabel('Mean Perimeter')\n",
    "plt.ylabel('Mean Smoothness')\n",
    "plt.title('Breast Cancer Dataset (Training Set)')\n",
    "plt.legend()\n",
    "plt.show()"
   ]
  },
  {
   "cell_type": "code",
   "execution_count": null,
   "metadata": {},
   "outputs": [],
   "source": []
  },
  {
   "cell_type": "markdown",
   "metadata": {},
   "source": [
    "#### Defining $\\sigma(z) = \\frac{1}{1 + e^{-z}}$"
   ]
  },
  {
   "cell_type": "code",
   "execution_count": 8,
   "metadata": {},
   "outputs": [],
   "source": [
    "def sigma_func(z):\n",
    "    return 1 / (1 + np.exp(-z))"
   ]
  },
  {
   "cell_type": "markdown",
   "metadata": {},
   "source": [
    "#### Defining loss function of sigma(Binary Cross-Entropy Loss):\n",
    "$\\text{Loss} = -\\frac{1}{n} \\sum_{i=1}^{n} \\left( y_i \\log(\\hat{y}_i) + (1 - y_i) \\log(1 - \\hat{y}_i) \\right)$\n"
   ]
  },
  {
   "cell_type": "code",
   "execution_count": 9,
   "metadata": {},
   "outputs": [],
   "source": [
    "def compute_loss(w, X, y):\n",
    "    z = np.dot(X, w)\n",
    "    y_predicted = sigma_func(z)\n",
    "    loss = -np.mean(y * np.log(y_predicted) + (1-y) * np.log(1-y_predicted) )\n",
    "    return loss"
   ]
  },
  {
   "cell_type": "markdown",
   "metadata": {},
   "source": [
    "#### Calculate Gradient:\n"
   ]
  },
  {
   "cell_type": "markdown",
   "metadata": {},
   "source": [
    "##### Mrhematic Background:\n",
    "\n",
    "$$\\text{Loss} = -\\frac{1}{n} \\sum_{i=1}^{n} \\left( y_i \\log(\\hat{y}_i) + (1 - y_i) \\log(1 - \\hat{y}_i) \\right)$$\n",
    "$$\\frac{\\partial \\text{Loss}}{\\partial \\beta_j} = -\\frac{1}{n} \\sum_{i=1}^{n} \\left( y_i - \\hat{y}_i \\right) x_{ij}$$\n",
    "$$\\text{Error} = y_i - \\hat{y}_i$$\n",
    "$$\\textbf{Gradient Calculation:}  \\text{gradient} = -\\frac{1}{n} X^T (y - \\hat{y})$$\n",
    "\n"
   ]
  },
  {
   "cell_type": "code",
   "execution_count": 10,
   "metadata": {},
   "outputs": [],
   "source": [
    "def compute_gradient(w, X, y):\n",
    "    n = X.shape[0]\n",
    "    z = np.dot(X, w)\n",
    "    y_predicted = sigma_func(z)\n",
    "    errors = y - y_predicted\n",
    "    #the np.dot(X.T, errors) should be averaged over the number of samples to compute \n",
    "    #the gradient correctly. Additionally, the np.mean() function should be applied to\n",
    "    #  the result of the dot product, not directly to the dot product itself. \n",
    "    # gradient = -np.mean(np.dot(X.T, errors)) is false\n",
    "    gradient = - np.dot(X.T, errors) / n\n",
    "    return gradient"
   ]
  },
  {
   "cell_type": "markdown",
   "metadata": {},
   "source": [
    "#### Evaluate the performance of a logistic regression model on a validation dataset."
   ]
  },
  {
   "cell_type": "code",
   "execution_count": 37,
   "metadata": {},
   "outputs": [],
   "source": [
    "def compute_prediction(w, X_val):\n",
    "    probabilities = sigma_func(X_val @ w)  # Compute predicted probabilities\n",
    "    #This line applies a decision rule to classify the predicted probabilities into\n",
    "    #binary outcomes. If the predicted probability is greater than 0.5, it assigns\n",
    "    #a label of 1 (positive class); otherwise, it assigns a label of 0 (negative class).\n",
    "    #The astype(int) method converts the boolean array (True/False) into integers (1/0).\n",
    "    predictions = (probabilities > 0.5).astype(int)  # Apply decision rule for binary classification\n",
    "    return predictions\n",
    "\n",
    "def compute_accuracy(w, X_val, y_val):\n",
    "    predictions = compute_prediction(w, X_val)\n",
    "    accuracy = np.mean(predictions == y_val)  # Calculate accuracy\n",
    "    return accuracy"
   ]
  },
  {
   "cell_type": "markdown",
   "metadata": {},
   "source": [
    "#### gradient_descent_logistic function:"
   ]
  },
  {
   "cell_type": "code",
   "execution_count": 38,
   "metadata": {},
   "outputs": [],
   "source": [
    "def gradient_descent_logistic(X_train, y_train,X_val,y_val,\n",
    "                              learning_rate, steps, tolerance=1e-6 ):\n",
    "    \n",
    "    #Q:why using shape[1] and not shape[0]?\n",
    "    w                    = np.zeros(X_train.shape[1]) # start with all weights equal to 0\n",
    "    loss_history         = [compute_loss(w, X_train, y_train)]\n",
    "    val_accuracy_history = [compute_accuracy(w, X_val, y_val)]\n",
    "    weights_history      = [w.copy()]\n",
    "\n",
    "    for step in range(1, steps+1):\n",
    "        grad = compute_gradient(w, X_train, y_train)\n",
    "        w   -= learning_rate * grad #updating weights\n",
    "        loss = compute_loss(w, X_train, y_train)\n",
    "        loss_history.append(loss)\n",
    "\n",
    "        #Compute Validation Accuracy:\n",
    "        accuracy = compute_accuracy(w, X_val, y_val)\n",
    "        val_accuracy_history.append(accuracy)\n",
    "\n",
    "        # storing weights every 10 steps for plotting\n",
    "        if step % 10 == 0:\n",
    "            weights_history.append(w.copy())\n",
    "        \n",
    "        # check convergence\n",
    "        if np.abs(loss_history[-2] - loss_history[-1]) < tolerance:\n",
    "            print(f'Converged at step {step}')\n",
    "            break\n",
    "\n",
    "        if step % 100 == 0:\n",
    "            print(f'Step {step}: Loss = {loss:.4f}, Validation Accuracy = {accuracy:.4f}')\n",
    "\n",
    "    return w, loss_history, val_accuracy_history, weights_history\n"
   ]
  },
  {
   "cell_type": "markdown",
   "metadata": {},
   "source": [
    "### Training Model:"
   ]
  },
  {
   "cell_type": "code",
   "execution_count": 39,
   "metadata": {},
   "outputs": [
    {
     "name": "stdout",
     "output_type": "stream",
     "text": [
      "Step 100: Loss = 0.1248, Validation Accuracy = 0.9561\n",
      "Step 200: Loss = 0.0982, Validation Accuracy = 0.9737\n",
      "Step 300: Loss = 0.0868, Validation Accuracy = 0.9825\n",
      "Step 400: Loss = 0.0801, Validation Accuracy = 0.9825\n",
      "Step 500: Loss = 0.0756, Validation Accuracy = 0.9825\n",
      "Step 600: Loss = 0.0723, Validation Accuracy = 0.9825\n",
      "Step 700: Loss = 0.0697, Validation Accuracy = 0.9737\n",
      "Step 800: Loss = 0.0677, Validation Accuracy = 0.9737\n",
      "Optimized weights: [-0.54873938 -0.6024384  -0.53348615 -0.53622539 -0.25558563 -0.05547351\n",
      " -0.38482697 -0.54556916 -0.2003328   0.29696808 -0.57229807  0.01635986\n",
      " -0.44282397 -0.48895612 -0.05998582  0.29531212  0.1577224  -0.17562791\n",
      "  0.17846165  0.34636298 -0.68198711 -0.72408848 -0.63511875 -0.63512197\n",
      " -0.50902252 -0.20630864 -0.42891815 -0.64364144 -0.49729861 -0.10967686\n",
      "  0.3394592 ]\n",
      "Decision rule: -0.5487393780220486 * Mean Perimeter + -0.60243840047945 * Mean Smoothness + -0.533486154102023 > 0 : Benign\n",
      "Decision rule: -0.5487393780220486 * Mean Perimeter + -0.60243840047945 * Mean Smoothness + -0.533486154102023 < 0 : Malignant\n"
     ]
    }
   ],
   "source": [
    "learning_rate = 0.05\n",
    "n_steps = 800\n",
    "\n",
    "w_opt, loss_history, val_accuracy_history, weights_history = gradient_descent_logistic(\n",
    "    X_train, y_train, X_val, y_val,\n",
    "    learning_rate, n_steps\n",
    ")\n",
    "\n",
    "print(f'Optimized weights: {w_opt}')\n",
    "print(f'Decision rule: {w_opt[0]} * Mean Perimeter + {w_opt[1]} * Mean Smoothness + {w_opt[2]} > 0 : Benign')\n",
    "print(f'Decision rule: {w_opt[0]} * Mean Perimeter + {w_opt[1]} * Mean Smoothness + {w_opt[2]} < 0 : Malignant')\n"
   ]
  },
  {
   "cell_type": "markdown",
   "metadata": {},
   "source": [
    "### Ploting"
   ]
  },
  {
   "cell_type": "code",
   "execution_count": 57,
   "metadata": {},
   "outputs": [
    {
     "data": {
      "image/png": "[encoded data removed]",
      "text/plain": [
       "<Figure size 720x432 with 1 Axes>"
      ]
     },
     "metadata": {
      "needs_background": "light"
     },
     "output_type": "display_data"
    },
    {
     "data": {
      "image/png": "[encoded data removed]",
      "text/plain": [
       "<Figure size 720x432 with 1 Axes>"
      ]
     },
     "metadata": {
      "needs_background": "light"
     },
     "output_type": "display_data"
    },
    {
     "name": "stdout",
     "output_type": "stream",
     "text": [
      "[[41  1]\n",
      " [ 2 70]]\n"
     ]
    },
    {
     "data": {
      "image/png": "[encoded data removed]",
      "text/plain": [
       "<Figure size 432x360 with 2 Axes>"
      ]
     },
     "metadata": {
      "needs_background": "light"
     },
     "output_type": "display_data"
    }
   ],
   "source": [
    "def plot_training_loss(loss_history):\n",
    "    epochs = range(len(loss_history))\n",
    "    plt.figure(figsize=(10, 6))\n",
    "    plt.plot(epochs, loss_history, color=\"blue\", label=\"Training Loss\")\n",
    "    plt.xlabel(\"Iterations\")\n",
    "    plt.ylabel(\"Training Loss\")\n",
    "    plt.title(\"Training Loss over Iterations\")\n",
    "    plt.legend()\n",
    "    plt.show()\n",
    "\n",
    "def plot_validation_accuracy(val_accuracy_history):\n",
    "    epochs = range(len(val_accuracy_history))\n",
    "    plt.figure(figsize=(10, 6))\n",
    "    plt.plot(epochs, val_accuracy_history, color=\"green\", label=\"Training Loss\")\n",
    "    plt.xlabel(\"Iterations\")\n",
    "    plt.ylabel(\"Validation Accuracy\")\n",
    "    plt.title(\"Validation Accuracy over Iterations\")\n",
    "    plt.legend()\n",
    "    plt.show()\n",
    "\n",
    "def plot_confusion_matrix(w, X_val, y_val):\n",
    "    predictions  = compute_prediction(w, X_val)\n",
    "    cm           = confusion_matrix(y_val, predictions)\n",
    "    print(cm)\n",
    "\n",
    "    plt.figure(figsize=(6, 5))\n",
    "    #annot=True : write numbers inside blocks \n",
    "    # Use fmt='d' to display confusion matrix values as integers in the heatmap annotations.\n",
    "    sns.heatmap(cm, annot=True, fmt='d', cmap='Blues',\n",
    "                xticklabels=['Predicted Malignant', 'Predicted Benign'],\n",
    "                yticklabels=['Actual Malignant', 'Actual Benign'])\n",
    "\n",
    "    plt.ylabel('Actual')\n",
    "    plt.xlabel('Predicted')\n",
    "    plt.title('Confusion Matrix')\n",
    "    plt.show()\n",
    "\n",
    "\n",
    "\n",
    "plot_training_loss(loss_history)\n",
    "plot_validation_accuracy(val_accuracy_history)\n",
    "plot_confusion_matrix(w=w_opt, X_val=X_val, y_val=y_val)"
   ]
  },
  {
   "cell_type": "markdown",
   "metadata": {},
   "source": [
    "## Multi-class classification\n"
   ]
  },
  {
   "cell_type": "code",
   "execution_count": null,
   "metadata": {},
   "outputs": [],
   "source": []
  },
  {
   "cell_type": "markdown",
   "metadata": {},
   "source": [
    "## Appendices"
   ]
  },
  {
   "cell_type": "markdown",
   "metadata": {},
   "source": [
    "### Appendix1"
   ]
  },
  {
   "cell_type": "code",
   "execution_count": 58,
   "metadata": {},
   "outputs": [
    {
     "name": "stdout",
     "output_type": "stream",
     "text": [
      "[[0. 0. 0. 0.]\n",
      " [0. 0. 0. 0.]]\n"
     ]
    }
   ],
   "source": [
    "test = [ [10, 20, 30, 40], [10, 20, 30, 40]]\n",
    "scaler = StandardScaler()\n",
    "test = scaler.fit_transform(test)\n",
    "\n",
    "print (test)"
   ]
  },
  {
   "cell_type": "markdown",
   "metadata": {},
   "source": [
    "#### What is `StandardScaler`?\n",
    "\n",
    "`StandardScaler` is a preprocessing tool provided by the `sklearn.preprocessing` module in the scikit-learn library. It standardizes features by removing the mean and scaling to unit variance. This is particularly important for many machine learning algorithms that are sensitive to the scale of the input data, such as Support Vector Machines (SVM), k-Nearest Neighbors (k-NN), and gradient descent-based algorithms.\n",
    "\n",
    "#### Why Standardize?\n",
    "\n",
    "Standardization is important because:\n",
    "- **Different Scales**: Features in a dataset can have different units and scales (e.g., height in cm and weight in kg). If not standardized, features with larger ranges can dominate the learning process.\n",
    "- **Improved Convergence**: For algorithms that use gradient descent, standardizing features can lead to faster convergence.\n",
    "- **Better Performance**: Many machine learning models perform better when the input features are on a similar scale.\n",
    "\n",
    "#### Code Breakdown\n",
    "\n",
    "```python\n",
    "scaler = StandardScaler()\n",
    "X = scaler.fit_transform(X)\n",
    "```\n",
    "\n",
    "1. **Creating an Instance of `StandardScaler`**:\n",
    "   ```python\n",
    "   scaler = StandardScaler()\n",
    "   ```\n",
    "   - This line creates an instance of the `StandardScaler` class. At this point, the scaler is not yet fitted to any data.\n",
    "\n",
    "2. **Fitting and Transforming the Data**:\n",
    "   ```python\n",
    "   X = scaler.fit_transform(X)\n",
    "   ```\n",
    "   - The `fit_transform` method is called on the `scaler` object with the dataset `X` as the input. This method performs two operations:\n",
    "     - **Fit**: It calculates the mean and standard deviation for each feature in `X`.\n",
    "     - **Transform**: It standardizes the data using the calculated mean and standard deviation.\n",
    "\n",
    "#### Example\n",
    "\n",
    "Let's illustrate this with a simple example.\n",
    "\n",
    "#### Sample Data\n",
    "\n",
    "Suppose we have the following dataset with two features:\n",
    "\n",
    "| Sample | Feature 1 (Height in cm) | Feature 2 (Weight in kg) |\n",
    "|--------|--------------------------|--------------------------|\n",
    "| 1      | 150                      | 50                       |\n",
    "| 2      | 160                      | 60                       |\n",
    "| 3      | 170                      | 70                       |\n",
    "| 4      | 180                      | 80                       |\n",
    "| 5      | 190                      | 90                       |\n",
    "\n",
    "#### Step 1: Import Libraries and Create Sample Data\n",
    "\n",
    "```python\n",
    "import numpy as np\n",
    "from sklearn.preprocessing import StandardScaler\n",
    "\n",
    "# Sample data\n",
    "X = np.array([[150, 50],\n",
    "              [160, 60],\n",
    "              [170, 70],\n",
    "              [180, 80],\n",
    "              [190, 90]])\n",
    "```\n",
    "\n",
    "#### Step 2: Create and Fit the Scaler\n",
    "\n",
    "```python\n",
    "scaler = StandardScaler()\n",
    "X_standardized = scaler.fit_transform(X)\n",
    "```\n",
    "\n",
    "#### Step 3: Understanding the Transformation\n",
    "\n",
    "- **Calculate Mean and Standard Deviation**:\n",
    "  - For Feature 1 (Height):\n",
    "    - Mean = (150 + 160 + 170 + 180 + 190) / 5 = 170\n",
    "    - Standard Deviation = sqrt(((150-170)² + (160-170)² + (170-170)² + (180-170)² + (190-170)²) / 5) = 14.14 (approximately)\n",
    "  \n",
    "  - For Feature 2 (Weight):\n",
    "    - Mean = (50 + 60 + 70 + 80 + 90) / 5 = 70\n",
    "    - Standard Deviation = sqrt(((50-70)² + (60-70)² + (70-70)² + (80-70)² + (90-70)²) / 5) = 14.14 (approximately)\n",
    "\n",
    "- **Standardize Each Feature**:\n",
    "  - For each sample, apply the standardization formula:\n",
    "    $\n",
    "    z = \\frac{(x - \\text{mean})}{\\text{std}}\n",
    "    $\n",
    "\n",
    "  - For Sample 1 (Height = 150, Weight = 50):\n",
    "    - Height: $$ z_1 = \\frac{(150 - 170)}{14.14} \\approx -1.41 $$\n",
    "    - Weight: $$ z_2 = \\frac{(50 - 70)}{14.14} \\approx -1.41 $$\n",
    "\n",
    "  - Repeat this for all samples.\n",
    "\n",
    "\n",
    "#### Resulting Standardized Data\n",
    "\n",
    "After applying the `fit_transform` method, the standardized data `X_standardized` will look like this (values are approximate):\n",
    "\n",
    "| Sample | Standardized Height | Standardized Weight |\n",
    "|--------|---------------------|---------------------|\n",
    "| 1      | -1.41               | -1.41               |\n",
    "| 2      | -0.71               | -0.71               |\n",
    "| 3      | 0.00                | 0.00                |\n",
    "| 4      | 0.71                | 0.71                |\n",
    "| 5      | 1.41                | 1.41                |\n",
    "\n",
    "#### Explanation of the Standardized Values\n",
    "\n",
    "- **Standardized Height**:\n",
    "  - Sample 1: $$ z = \\frac{(150 - 170)}{14.14} \\approx -1.41 $$\n",
    "  - Sample 2: $$ z = \\frac{(160 - 170)}{14.14} \\approx -0.71 $$\n",
    "  - Sample 3: $$ z = \\frac{(170 - 170)}{14.14} = 0.00 $$\n",
    "  - Sample 4: $$ z = \\frac{(180 - 170)}{14.14} \\approx 0.71 $$\n",
    "  - Sample 5: $$ z = \\frac{(190 - 170)}{14.14} \\approx 1.41 $$\n",
    "\n",
    "- **Standardized Weight**:\n",
    "  - Sample 1: $$ z = \\frac{(50 - 70)}{14.14} \\approx -1.41 $$\n",
    "  - Sample 2: $$ z = \\frac{(60 - 70)}{14.14} \\approx -0.71 $$\n",
    "  - Sample 3: $$ z = \\frac{(70 - 70)}{14.14} = 0.00 $$\n",
    "  - Sample 4: $$ z = \\frac{(80 - 70)}{14.14} \\approx 0.71 $$\n",
    "  - Sample 5: $$ z = \\frac{(90 - 70)}{14.14} \\approx 1.41 $$\n",
    "\n",
    "#### Key Points to Remember\n",
    "\n",
    "1. **Mean of Standardized Features**: After standardization, the mean of each feature will be approximately 0.\n",
    "2. **Standard Deviation of Standardized Features**: The standard deviation of each feature will be approximately 1.\n",
    "3. **Interpretation**: The standardized values indicate how many standard deviations a particular value is from the mean. For example, a standardized value of -1.41 means that the original value is 1.41 standard deviations below the mean.\n",
    "\n",
    "#### Complete Example Code\n",
    "\n",
    "Here’s the complete code for the example we discussed:\n",
    "\n",
    "```python\n",
    "import numpy as np\n",
    "from sklearn.preprocessing import StandardScaler\n",
    "\n",
    "# Sample data\n",
    "X = np.array([[150, 50],\n",
    "              [160, 60],\n",
    "              [170, 70],\n",
    "              [180, 80],\n",
    "              [190, 90]])\n",
    "\n",
    "# Create a StandardScaler instance\n",
    "scaler = StandardScaler()\n",
    "\n",
    "# Fit the scaler to the data and transform it\n",
    "X_standardized = scaler.fit_transform(X)\n",
    "\n",
    "# Print the standardized data\n",
    "print(\"Standardized Data:\")\n",
    "print(X_standardized)\n",
    "\n",
    "# Print the mean and standard deviation of the standardized data\n",
    "print(\"Mean of each feature after standardization:\", X_standardized.mean(axis=0))\n",
    "print(\"Standard deviation of each feature after standardization:\", X_standardized.std(axis=0))\n",
    "```\n",
    "\n",
    "#### Output\n",
    "\n",
    "\n",
    "#### Conclusion\n",
    "\n",
    "Using `StandardScaler` is a crucial step in preprocessing data for machine learning. It ensures that all features contribute equally to the model's performance by standardizing their scales. This is especially important for algorithms that rely on distance calculations or optimization techniques. By understanding how to use `StandardScaler`, you can effectively prepare your data for various machine learning tasks."
   ]
  }
 ],
 "metadata": {
  "kernelspec": {
   "display_name": "Python 3",
   "language": "python",
   "name": "python3"
  },
  "language_info": {
   "codemirror_mode": {
    "name": "ipython",
    "version": 3
   },
   "file_extension": ".py",
   "mimetype": "text/x-python",
   "name": "python",
   "nbconvert_exporter": "python",
   "pygments_lexer": "ipython3",
   "version": "3.10.1"
  }
 },
 "nbformat": 4,
 "nbformat_minor": 2
}
